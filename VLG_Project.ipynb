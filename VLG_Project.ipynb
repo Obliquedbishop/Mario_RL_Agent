{
 "cells": [
  {
   "cell_type": "code",
   "execution_count": 1,
   "metadata": {
    "colab": {
     "base_uri": "https://localhost:8080/"
    },
    "executionInfo": {
     "elapsed": 10146,
     "status": "ok",
     "timestamp": 1656522723983,
     "user": {
      "displayName": "shreyansh jain",
      "userId": "15851526152066987878"
     },
     "user_tz": -330
    },
    "id": "FvNpbjMnEpZ8",
    "outputId": "d7e86a80-b443-491c-f886-d8e69ab30c34"
   },
   "outputs": [
    {
     "output_type": "stream",
     "name": "stdout",
     "text": [
      "Looking in indexes: https://pypi.org/simple, https://us-python.pkg.dev/colab-wheels/public/simple/\n",
      "Collecting nes-py==0.2.6\n",
      "  Using cached nes_py-0.2.6-cp37-cp37m-linux_x86_64.whl\n",
      "Requirement already satisfied: pyglet>=1.3.2 in /usr/local/lib/python3.7/dist-packages (from nes-py==0.2.6) (1.5.0)\n",
      "Requirement already satisfied: numpy>=1.14.2 in /usr/local/lib/python3.7/dist-packages (from nes-py==0.2.6) (1.21.6)\n",
      "Requirement already satisfied: pygame>=1.9.3 in /usr/local/lib/python3.7/dist-packages (from nes-py==0.2.6) (2.1.2)\n",
      "Requirement already satisfied: gym>=0.10.5 in /usr/local/lib/python3.7/dist-packages (from nes-py==0.2.6) (0.17.3)\n",
      "Requirement already satisfied: tqdm>=4.19.5 in /usr/local/lib/python3.7/dist-packages (from nes-py==0.2.6) (4.64.0)\n",
      "Requirement already satisfied: cloudpickle<1.7.0,>=1.2.0 in /usr/local/lib/python3.7/dist-packages (from gym>=0.10.5->nes-py==0.2.6) (1.3.0)\n",
      "Requirement already satisfied: scipy in /usr/local/lib/python3.7/dist-packages (from gym>=0.10.5->nes-py==0.2.6) (1.4.1)\n",
      "Requirement already satisfied: future in /usr/local/lib/python3.7/dist-packages (from pyglet>=1.3.2->nes-py==0.2.6) (0.16.0)\n",
      "Installing collected packages: nes-py\n",
      "  Attempting uninstall: nes-py\n",
      "    Found existing installation: nes-py 8.2.1\n",
      "    Uninstalling nes-py-8.2.1:\n",
      "      Successfully uninstalled nes-py-8.2.1\n",
      "\u001B[31mERROR: pip's dependency resolver does not currently take into account all the packages that are installed. This behaviour is the source of the following dependency conflicts.\n",
      "gym-super-mario-bros 7.4.0 requires nes-py>=8.1.4, but you have nes-py 0.2.6 which is incompatible.\u001B[0m\n",
      "Successfully installed nes-py-0.2.6\n",
      "Looking in indexes: https://pypi.org/simple, https://us-python.pkg.dev/colab-wheels/public/simple/\n",
      "Requirement already satisfied: gym-super-mario-bros in /usr/local/lib/python3.7/dist-packages (7.4.0)\n",
      "Collecting nes-py>=8.1.4\n",
      "  Using cached nes_py-8.2.1-cp37-cp37m-linux_x86_64.whl\n",
      "Requirement already satisfied: gym>=0.17.2 in /usr/local/lib/python3.7/dist-packages (from nes-py>=8.1.4->gym-super-mario-bros) (0.17.3)\n",
      "Requirement already satisfied: tqdm>=4.48.2 in /usr/local/lib/python3.7/dist-packages (from nes-py>=8.1.4->gym-super-mario-bros) (4.64.0)\n",
      "Requirement already satisfied: numpy>=1.18.5 in /usr/local/lib/python3.7/dist-packages (from nes-py>=8.1.4->gym-super-mario-bros) (1.21.6)\n",
      "Requirement already satisfied: pyglet<=1.5.21,>=1.4.0 in /usr/local/lib/python3.7/dist-packages (from nes-py>=8.1.4->gym-super-mario-bros) (1.5.0)\n",
      "Requirement already satisfied: cloudpickle<1.7.0,>=1.2.0 in /usr/local/lib/python3.7/dist-packages (from gym>=0.17.2->nes-py>=8.1.4->gym-super-mario-bros) (1.3.0)\n",
      "Requirement already satisfied: scipy in /usr/local/lib/python3.7/dist-packages (from gym>=0.17.2->nes-py>=8.1.4->gym-super-mario-bros) (1.4.1)\n",
      "Requirement already satisfied: future in /usr/local/lib/python3.7/dist-packages (from pyglet<=1.5.21,>=1.4.0->nes-py>=8.1.4->gym-super-mario-bros) (0.16.0)\n",
      "Installing collected packages: nes-py\n",
      "  Attempting uninstall: nes-py\n",
      "    Found existing installation: nes-py 0.2.6\n",
      "    Uninstalling nes-py-0.2.6:\n",
      "      Successfully uninstalled nes-py-0.2.6\n",
      "Successfully installed nes-py-8.2.1\n"
     ]
    }
   ],
   "source": [
    "!pip install nes-py==0.2.6\n",
    "!pip install gym-super-mario-bros"
   ]
  },
  {
   "cell_type": "code",
   "execution_count": 1,
   "metadata": {
    "executionInfo": {
     "elapsed": 3826,
     "status": "ok",
     "timestamp": 1656534471430,
     "user": {
      "displayName": "shreyansh jain",
      "userId": "15851526152066987878"
     },
     "user_tz": -330
    },
    "id": "X2y9wwJSFDbJ"
   },
   "outputs": [],
   "source": [
    "import torch\n",
    "from tqdm import tqdm\n",
    "import torch.nn as nn\n",
    "import random\n",
    "import gym_super_mario_bros\n",
    "from nes_py.wrappers import JoypadSpace\n",
    "import pickle\n",
    "from gym_super_mario_bros.actions import RIGHT_ONLY\n",
    "import gym\n",
    "import numpy as np\n",
    "import collections\n",
    "import cv2\n",
    "import matplotlib.pyplot as plt\n",
    "from IPython import display\n",
    "import time\n",
    "%matplotlib inline"
   ]
  },
  {
   "cell_type": "code",
   "execution_count": 2,
   "metadata": {
    "executionInfo": {
     "elapsed": 5,
     "status": "ok",
     "timestamp": 1656534471431,
     "user": {
      "displayName": "shreyansh jain",
      "userId": "15851526152066987878"
     },
     "user_tz": -330
    },
    "id": "0FI9MvNgF8Wk"
   },
   "outputs": [],
   "source": [
    "class MaxAndSkipEnv(gym.Wrapper):\n",
    "  def __init__(self, env=None, skip=4):\n",
    "      super(MaxAndSkipEnv, self).__init__(env)\n",
    "      self._obs_buffer = collections.deque(maxlen=2)\n",
    "      self._skip = skip\n",
    "\n",
    "  def step(self, action):\n",
    "    total_reward = 0.0\n",
    "    done = None\n",
    "    for _ in range(self._skip):\n",
    "      obs, reward, done, info = self.env.step(action)\n",
    "      self._obs_buffer.append(obs)\n",
    "      total_reward += reward\n",
    "      if done:\n",
    "        break\n",
    "    max_frame = np.max(np.stack(self._obs_buffer), axis=0)\n",
    "    return max_frame, total_reward, done, info\n",
    "\n",
    "  def reset(self):\n",
    "    self._obs_buffer.clear()\n",
    "    obs = self.env.reset()\n",
    "    self._obs_buffer.append(obs)\n",
    "    return obs\n",
    "\n",
    "class ProcessFrame84(gym.ObservationWrapper):\n",
    "    \"\"\"\n",
    "    Downsamples image to 84x84\n",
    "    Greyscales image\n",
    "\n",
    "    Returns numpy array\n",
    "    \"\"\"\n",
    "    def __init__(self, env=None):\n",
    "        super(ProcessFrame84, self).__init__(env)\n",
    "        self.observation_space = gym.spaces.Box(low=0, high=255, shape=(84, 84, 1), dtype=np.uint8)\n",
    "\n",
    "    def observation(self, obs):\n",
    "        return ProcessFrame84.process(obs)\n",
    "\n",
    "    @staticmethod\n",
    "    def process(frame):\n",
    "        if frame.size == 240 * 256 * 3:\n",
    "            img = np.reshape(frame, [240, 256, 3]).astype(np.float32)\n",
    "        else:\n",
    "            assert False, \"Unknown resolution.\"\n",
    "        img = img[:, :, 0] * 0.299 + img[:, :, 1] * 0.587 + img[:, :, 2] * 0.114\n",
    "        resized_screen = cv2.resize(img, (84, 110), interpolation=cv2.INTER_AREA)\n",
    "        x_t = resized_screen[18:102, :]\n",
    "        x_t = np.reshape(x_t, [84, 84, 1])\n",
    "        return x_t.astype(np.uint8)\n",
    "\n",
    "class ImageToPyTorch(gym.ObservationWrapper):\n",
    "    def __init__(self, env):\n",
    "        super(ImageToPyTorch, self).__init__(env)\n",
    "        old_shape = self.observation_space.shape\n",
    "        self.observation_space = gym.spaces.Box(low=0.0, high=1.0, shape=(old_shape[-1], old_shape[0], old_shape[1]),\n",
    "                                                dtype=np.float32)\n",
    "\n",
    "    def observation(self, observation):\n",
    "        return np.moveaxis(observation, 2, 0)\n",
    "\n",
    "class ScaledFloatFrame(gym.ObservationWrapper):\n",
    "    \"\"\"Normalize pixel values in frame --> 0 to 1\"\"\"\n",
    "    def observation(self, obs):\n",
    "        return np.array(obs).astype(np.float32) / 255.0\n",
    "\n",
    "class BufferWrapper(gym.ObservationWrapper):\n",
    "    def __init__(self, env, n_steps, dtype=np.float32):\n",
    "        super(BufferWrapper, self).__init__(env)\n",
    "        self.dtype = dtype\n",
    "        old_space = env.observation_space\n",
    "        self.observation_space = gym.spaces.Box(old_space.low.repeat(n_steps, axis=0),\n",
    "                                                old_space.high.repeat(n_steps, axis=0), dtype=dtype)\n",
    "\n",
    "    def reset(self):\n",
    "        self.buffer = np.zeros_like(self.observation_space.low, dtype=self.dtype)\n",
    "        return self.observation(self.env.reset())\n",
    "\n",
    "    def observation(self, observation):\n",
    "        self.buffer[:-1] = self.buffer[1:]\n",
    "        self.buffer[-1] = observation\n",
    "        return self.buffer\n",
    "\n",
    "def make_env(env):\n",
    "    env = MaxAndSkipEnv(env)\n",
    "    env = ProcessFrame84(env)\n",
    "    env = ImageToPyTorch(env)\n",
    "    env = BufferWrapper(env, 4)\n",
    "    env = ScaledFloatFrame(env)\n",
    "    return JoypadSpace(env, RIGHT_ONLY)"
   ]
  },
  {
   "cell_type": "code",
   "execution_count": 3,
   "metadata": {
    "executionInfo": {
     "elapsed": 5,
     "status": "ok",
     "timestamp": 1656534471432,
     "user": {
      "displayName": "shreyansh jain",
      "userId": "15851526152066987878"
     },
     "user_tz": -330
    },
    "id": "U40_I7lbNDke"
   },
   "outputs": [],
   "source": [
    "def show_state(env, ep=0, info=\"\"):\n",
    "    plt.figure(3)\n",
    "    plt.clf()\n",
    "    plt.imshow(env.render(mode='rgb_array'))\n",
    "    plt.title(\"Episode: %d %s\" % (ep, info))\n",
    "    plt.axis('off')\n",
    "\n",
    "    display.display(plt.gcf())\n",
    "    display.clear_output(wait=True)\n",
    "    time.sleep(0.1)"
   ]
  },
  {
   "cell_type": "code",
   "execution_count": 4,
   "metadata": {
    "colab": {
     "base_uri": "https://localhost:8080/"
    },
    "executionInfo": {
     "elapsed": 883,
     "status": "ok",
     "timestamp": 1656534472310,
     "user": {
      "displayName": "shreyansh jain",
      "userId": "15851526152066987878"
     },
     "user_tz": -330
    },
    "id": "IoOb58dJNJIz",
    "outputId": "0ac863fa-3fa2-45bc-9045-9bd85e5d3161"
   },
   "outputs": [
    {
     "output_type": "execute_result",
     "data": {
      "text/plain": [
       "array([[[0.        , 0.        , 0.        , ..., 0.        ,\n",
       "         0.        , 0.        ],\n",
       "        [0.        , 0.        , 0.        , ..., 0.        ,\n",
       "         0.        , 0.        ],\n",
       "        [0.        , 0.        , 0.        , ..., 0.        ,\n",
       "         0.        , 0.        ],\n",
       "        ...,\n",
       "        [0.        , 0.        , 0.        , ..., 0.        ,\n",
       "         0.        , 0.        ],\n",
       "        [0.        , 0.        , 0.        , ..., 0.        ,\n",
       "         0.        , 0.        ],\n",
       "        [0.        , 0.        , 0.        , ..., 0.        ,\n",
       "         0.        , 0.        ]],\n",
       "\n",
       "       [[0.        , 0.        , 0.        , ..., 0.        ,\n",
       "         0.        , 0.        ],\n",
       "        [0.        , 0.        , 0.        , ..., 0.        ,\n",
       "         0.        , 0.        ],\n",
       "        [0.        , 0.        , 0.        , ..., 0.        ,\n",
       "         0.        , 0.        ],\n",
       "        ...,\n",
       "        [0.        , 0.        , 0.        , ..., 0.        ,\n",
       "         0.        , 0.        ],\n",
       "        [0.        , 0.        , 0.        , ..., 0.        ,\n",
       "         0.        , 0.        ],\n",
       "        [0.        , 0.        , 0.        , ..., 0.        ,\n",
       "         0.        , 0.        ]],\n",
       "\n",
       "       [[0.        , 0.        , 0.        , ..., 0.        ,\n",
       "         0.        , 0.        ],\n",
       "        [0.        , 0.        , 0.        , ..., 0.        ,\n",
       "         0.        , 0.        ],\n",
       "        [0.        , 0.        , 0.        , ..., 0.        ,\n",
       "         0.        , 0.        ],\n",
       "        ...,\n",
       "        [0.        , 0.        , 0.        , ..., 0.        ,\n",
       "         0.        , 0.        ],\n",
       "        [0.        , 0.        , 0.        , ..., 0.        ,\n",
       "         0.        , 0.        ],\n",
       "        [0.        , 0.        , 0.        , ..., 0.        ,\n",
       "         0.        , 0.        ]],\n",
       "\n",
       "       [[0.54509807, 0.54509807, 0.54509807, ..., 0.54509807,\n",
       "         0.54509807, 0.54509807],\n",
       "        [0.54509807, 0.54509807, 0.54509807, ..., 0.54509807,\n",
       "         0.54509807, 0.54509807],\n",
       "        [0.54509807, 0.54509807, 0.54509807, ..., 0.54509807,\n",
       "         0.54509807, 0.54509807],\n",
       "        ...,\n",
       "        [0.5647059 , 0.48235294, 0.4509804 , ..., 0.34901962,\n",
       "         0.5764706 , 0.3254902 ],\n",
       "        [0.43529412, 0.3764706 , 0.33333334, ..., 0.42745098,\n",
       "         0.49411765, 0.3254902 ],\n",
       "        [0.63529414, 0.5294118 , 0.44705883, ..., 0.44313726,\n",
       "         0.48235294, 0.28627452]]], dtype=float32)"
      ]
     },
     "metadata": {},
     "execution_count": 4
    }
   ],
   "source": [
    "env = gym_super_mario_bros.make('SuperMarioBros-1-1-v0')\n",
    "env = make_env(env)  # Wraps the environment so that frames are grayscale\n",
    "env.reset()"
   ]
  },
  {
   "cell_type": "code",
   "execution_count": 5,
   "metadata": {
    "executionInfo": {
     "elapsed": 4,
     "status": "ok",
     "timestamp": 1656534472310,
     "user": {
      "displayName": "shreyansh jain",
      "userId": "15851526152066987878"
     },
     "user_tz": -330
    },
    "id": "JFtTs-0RNYWX"
   },
   "outputs": [],
   "source": [
    "class Deep_Q_Learning(nn.Module):\n",
    "\n",
    "    def __init__(self, input_shape, n_actions):\n",
    "        super(Deep_Q_Learning, self).__init__()\n",
    "        self.conv = nn.Sequential(\n",
    "            nn.Conv2d(input_shape[0], 32, kernel_size=8, stride=4),\n",
    "            nn.ReLU(),\n",
    "            nn.Conv2d(32, 64, kernel_size=4, stride=2),\n",
    "            nn.ReLU(),\n",
    "            nn.Conv2d(64, 64, kernel_size=3, stride=1),\n",
    "            nn.ReLU()\n",
    "        )\n",
    "\n",
    "        conv_out_size = self._get_conv_out(input_shape)\n",
    "        self.fc = nn.Sequential(\n",
    "            nn.Linear(conv_out_size, 512),\n",
    "            nn.ReLU(),\n",
    "            nn.Linear(512, n_actions)\n",
    "        )\n",
    "    \n",
    "    def _get_conv_out(self, shape):\n",
    "        output = self.conv(torch.zeros(1, *shape))\n",
    "        return int(np.prod(output.size()))\n",
    "\n",
    "    def forward(self, x):\n",
    "        conv_out = self.conv(x).view(x.size()[0], -1)\n",
    "        return self.fc(conv_out)\n",
    "    \n",
    "\n",
    "class DQNAgent:\n",
    "\n",
    "    def __init__(self, state_space, action_space, max_mem, batch_size, gamma, lr,\n",
    "                 epsilon_greedy, epsilon_min, epsilon_decay, pretrained):\n",
    "\n",
    "        # Define DQN Layers\n",
    "        self.state_space = state_space\n",
    "        self.action_space = action_space\n",
    "        self.pretrained = pretrained\n",
    "        self.device = 'cuda' if torch.cuda.is_available() else 'cpu'\n",
    "       \n",
    "        self.local_net = Deep_Q_Learning(state_space, action_space).to(self.device)\n",
    "        self.target_net = Deep_Q_Learning(state_space, action_space).to(self.device)\n",
    "            \n",
    "        if self.pretrained:\n",
    "            self.local_net.load_state_dict(torch.load(\"dq1.pt\", map_location=torch.device(self.device)))\n",
    "            self.target_net.load_state_dict(torch.load(\"dq2.pt\", map_location=torch.device(self.device)))\n",
    "                    \n",
    "        self.optimizer = torch.optim.Adam(self.local_net.parameters(), lr=lr)\n",
    "        self.copy = 5000  # Copy the local model weights into the target network every 5000 steps\n",
    "        self.step = 0\n",
    "\n",
    "        # Create memory\n",
    "        self.max_mem = max_mem\n",
    "        if self.pretrained:\n",
    "            #self.State_Memory = torch.load(\"State_Memory.pt\")\n",
    "            self.State_Memory = torch.zeros(max_mem, *self.state_space)\n",
    "            self.Action_Memory = torch.load(\"Action_Memory.pt\")\n",
    "            self.Reward_Memory = torch.load(\"Reward_Memory.pt\")\n",
    "            #self.State2_Memory = torch.load(\"State2_Memory.pt\")\n",
    "            self.State2_Memory = torch.zeros(max_mem, *self.state_space)\n",
    "            self.Done_Memory = torch.load(\"Done_Memory.pt\")\n",
    "            with open(\"ending_position.pkl\", 'rb') as f:\n",
    "                self.ending_position = pickle.load(f)\n",
    "            with open(\"num_in_queue.pkl\", 'rb') as f:\n",
    "                self.num_in_queue = pickle.load(f)\n",
    "        else:\n",
    "            self.State_Memory = torch.zeros(max_mem, *self.state_space)\n",
    "            self.Action_Memory = torch.zeros(max_mem, 1)\n",
    "            self.Reward_Memory = torch.zeros(max_mem, 1)\n",
    "            self.State2_Memory = torch.zeros(max_mem, *self.state_space)\n",
    "            self.Done_Memory = torch.zeros(max_mem, 1)\n",
    "            self.ending_position = 0\n",
    "            self.num_in_queue = 0\n",
    "        \n",
    "        self.mem_size = batch_size\n",
    "        \n",
    "        # Learning parameters\n",
    "        self.gamma = gamma\n",
    "        self.l1 = nn.SmoothL1Loss().to(self.device) # Also known as Huber loss\n",
    "        self.epsilon_greedy = epsilon_greedy\n",
    "        self.exploration_rate = epsilon_greedy\n",
    "        self.epsilon_min = epsilon_min\n",
    "        self.epsilon_decay = epsilon_decay\n",
    "\n",
    "    def remember(self, state, action, reward, state2, done):\n",
    "        self.State_Memory[self.ending_position] = state.float()\n",
    "        self.Action_Memory[self.ending_position] = action.float()\n",
    "        self.Reward_Memory[self.ending_position] = reward.float()\n",
    "        self.State2_Memory[self.ending_position] = state2.float()\n",
    "        self.Done_Memory[self.ending_position] = done.float()\n",
    "        self.ending_position = (self.ending_position + 1) % self.max_mem  # FIFO tensor\n",
    "        self.num_in_queue = min(self.num_in_queue + 1, self.max_mem)\n",
    "        \n",
    "    def recall(self):\n",
    "        # Randomly sample 'batch size' experiences\n",
    "        idx = random.choices(range(self.num_in_queue), k=self.mem_size)\n",
    "        \n",
    "        STATE = self.State_Memory[idx]\n",
    "        ACTION = self.Action_Memory[idx]\n",
    "        REWARD = self.Reward_Memory[idx]\n",
    "        STATE2 = self.State2_Memory[idx]\n",
    "        DONE = self.Done_Memory[idx]\n",
    "        \n",
    "        return STATE, ACTION, REWARD, STATE2, DONE\n",
    "\n",
    "    def act(self, state):\n",
    "        # Epsilon-greedy action\n",
    "        \n",
    "        self.step += 1\n",
    "        if random.random() < self.exploration_rate:  \n",
    "            return torch.tensor([[random.randrange(self.action_space)]])\n",
    "\n",
    "        # Local net is used for the policy\n",
    "        return torch.argmax(self.local_net(state.to(self.device))).unsqueeze(0).unsqueeze(0).cpu()\n",
    "\n",
    "\n",
    "    def copy_model(self):\n",
    "        # Copy local net weights into target net\n",
    "        \n",
    "        self.target_net.load_state_dict(self.local_net.state_dict())\n",
    "    \n",
    "    def experience_replay(self):\n",
    "        \n",
    "        if self.step % self.copy == 0:\n",
    "            self.copy_model()\n",
    "\n",
    "        if self.mem_size > self.num_in_queue:\n",
    "            return\n",
    "\n",
    "        STATE, ACTION, REWARD, STATE2, DONE = self.recall()\n",
    "        STATE = STATE.to(self.device)\n",
    "        ACTION = ACTION.to(self.device)\n",
    "        REWARD = REWARD.to(self.device)\n",
    "        STATE2 = STATE2.to(self.device)\n",
    "        DONE = DONE.to(self.device)\n",
    "        \n",
    "        self.optimizer.zero_grad()\n",
    "            # Double Q-Learning target is Q*(S, A) <- r + γ max_a Q_target(S', a)\n",
    "        target = REWARD + torch.mul((self.gamma * \n",
    "                                        self.target_net(STATE2).max(1).values.unsqueeze(1)), \n",
    "                                        1 - DONE)\n",
    "\n",
    "        current = self.local_net(STATE).gather(1, ACTION.long()) # Local net approximation of Q-value\n",
    "        \n",
    "        loss = self.l1(current, target)\n",
    "        loss.backward() # Compute gradients\n",
    "        self.optimizer.step() # Backpropagate error\n",
    "\n",
    "        self.exploration_rate *= self.epsilon_decay\n",
    "        \n",
    "        # Makes sure that exploration rate is always at least 'exploration min'\n",
    "        self.exploration_rate = max(self.exploration_rate, self.epsilon_min)"
   ]
  },
  {
   "cell_type": "code",
   "execution_count": 6,
   "metadata": {
    "executionInfo": {
     "elapsed": 4,
     "status": "ok",
     "timestamp": 1656534472311,
     "user": {
      "displayName": "shreyansh jain",
      "userId": "15851526152066987878"
     },
     "user_tz": -330
    },
    "id": "1UHRpVQUUaIu"
   },
   "outputs": [],
   "source": [
    "def run(training_mode, pretrained):\n",
    "   \n",
    "    env = gym_super_mario_bros.make('SuperMarioBros-1-1-v0')\n",
    "    env = make_env(env)  # Wraps the environment so that frames are grayscale \n",
    "    observation_space = env.observation_space.shape\n",
    "    action_space = env.action_space.n\n",
    "    agent = DQNAgent(state_space=observation_space,\n",
    "                     action_space=action_space,\n",
    "                     max_mem=30000,\n",
    "                     batch_size=32,\n",
    "                     gamma=0.90,\n",
    "                     lr=0.00025,\n",
    "                     epsilon_greedy=1.0,\n",
    "                     epsilon_min=0.02,\n",
    "                     epsilon_decay=0.99,\n",
    "                     pretrained=pretrained)\n",
    "    \n",
    "    num_episodes = 10000\n",
    "    env.reset()\n",
    "    total_rewards = []\n",
    "    \n",
    "    for ep_num in tqdm(range(num_episodes)):\n",
    "        state = env.reset()\n",
    "        state = torch.Tensor(np.array([state]))\n",
    "        total_reward = 0\n",
    "        steps = 0\n",
    "        while True:\n",
    "            if not training_mode:\n",
    "                #show_state(env, ep_num)\n",
    "                pass\n",
    "            action = agent.act(state)\n",
    "            steps += 1\n",
    "            \n",
    "            state_next, reward, terminal, info = env.step(int(action[0]))\n",
    "            total_reward += reward\n",
    "            state_next = torch.Tensor(np.array([state_next]))\n",
    "            reward = torch.tensor(np.array([reward])).unsqueeze(0)\n",
    "            \n",
    "            terminal = torch.tensor([int(terminal)]).unsqueeze(0)\n",
    "            \n",
    "            if training_mode:\n",
    "                print(\"state\", state)\n",
    "                print(\"action\", action)\n",
    "                print(\"reward\", reward)\n",
    "                print(\"state_next\", state_next)\n",
    "                print(\"terminal\", terminal)\n",
    "                agent.remember(state, action, reward, state_next, terminal)\n",
    "                agent.experience_replay()\n",
    "            \n",
    "            state = state_next\n",
    "            if terminal:\n",
    "                break\n",
    "        \n",
    "        total_rewards.append(total_reward)\n",
    "\n",
    "        print(\"Total reward after episode {} is {}\".format(ep_num + 1, total_rewards[-1]))\n",
    "        num_episodes += 1      \n",
    "    \n",
    "    if training_mode:\n",
    "        with open(\"ending_position.pkl\", \"wb\") as f:\n",
    "            pickle.dump(agent.ending_position, f)\n",
    "        with open(\"num_in_queue.pkl\", \"wb\") as f:\n",
    "            pickle.dump(agent.num_in_queue, f)\n",
    "        with open(\"total_rewards.pkl\", \"wb\") as f:\n",
    "            pickle.dump(total_rewards, f)\n",
    "        \n",
    "        torch.save(agent.local_net.state_dict(), \"dq1.pt\")\n",
    "        torch.save(agent.target_net.state_dict(), \"dq2.pt\")\n",
    "        torch.save(agent.State_Memory,  \"State_Memory.pt\")\n",
    "        torch.save(agent.Action_Memory, \"Action_Memory.pt\")\n",
    "        torch.save(agent.Reward_Memory, \"Reward_Memory.pt\")\n",
    "        torch.save(agent.State2_Memory, \"State2_Memory.pt\")\n",
    "        torch.save(agent.Done_Memory,   \"Done_Memory.pt\")\n",
    "    \n",
    "    env.close()\n",
    "    \n",
    "    if num_episodes > 500:\n",
    "        plt.title(\"Episodes trained vs. Average Rewards (per 500 eps)\")\n",
    "        plt.plot([0 for _ in range(500)] + \n",
    "                 np.convolve(total_rewards, np.ones((500,))/500, mode=\"valid\").tolist())\n",
    "        plt.show()"
   ]
  },
  {
   "cell_type": "code",
   "source": [
    "def give_agent(training_mode, pretrained):\n",
    "    env = gym_super_mario_bros.make('SuperMarioBros-1-1-v0')\n",
    "    env = make_env(env)  # Wraps the environment so that frames are grayscale\n",
    "    observation_space = env.observation_space.shape\n",
    "    action_space = env.action_space.n\n",
    "    agent = DQNAgent(state_space=observation_space,\n",
    "                     action_space=action_space,\n",
    "                     max_mem=30000,\n",
    "                     batch_size=32,\n",
    "                     gamma=0.90,\n",
    "                     lr=0.00025,\n",
    "                     epsilon_greedy=1.0,\n",
    "                     epsilon_min=0.02,\n",
    "                     epsilon_decay=0.99,\n",
    "                     pretrained=pretrained)\n",
    "    print(agent.Action_Memory.shape)\n",
    "    return env, agent"
   ],
   "metadata": {
    "id": "SagCLQM8yEjU",
    "executionInfo": {
     "status": "ok",
     "timestamp": 1656534472311,
     "user_tz": -330,
     "elapsed": 4,
     "user": {
      "displayName": "shreyansh jain",
      "userId": "15851526152066987878"
     }
    }
   },
   "execution_count": 7,
   "outputs": []
  },
  {
   "cell_type": "code",
   "source": [
    "envi, mario_agent = give_agent(False, True)"
   ],
   "metadata": {
    "colab": {
     "base_uri": "https://localhost:8080/"
    },
    "id": "3U_JSUI3yXly",
    "executionInfo": {
     "status": "ok",
     "timestamp": 1656534490216,
     "user_tz": -330,
     "elapsed": 17909,
     "user": {
      "displayName": "shreyansh jain",
      "userId": "15851526152066987878"
     }
    },
    "outputId": "714497cd-6762-4e96-a09a-ea9c2628d97a"
   },
   "execution_count": 8,
   "outputs": [
    {
     "output_type": "stream",
     "name": "stdout",
     "text": [
      "torch.Size([30000, 1])\n"
     ]
    }
   ]
  },
  {
   "cell_type": "code",
   "source": [
    "count = 0\n",
    "reward_counter = 0\n",
    "begin = 0\n",
    "max_reward = 0\n",
    "max_begin = 0\n",
    "max_end = 0\n",
    "num = 0\n",
    "for i in mario_agent.Done_Memory:\n",
    "  reward_counter += mario_agent.Reward_Memory[count].tolist()[0]\n",
    "  if i == torch.Tensor([1.0]):\n",
    "    num += 1\n",
    "    if reward_counter > max_reward:\n",
    "      max_reward = reward_counter\n",
    "      max_begin = begin\n",
    "      max_end = count\n",
    "    begin = count\n",
    "    reward_counter = 0\n",
    "  count += 1"
   ],
   "metadata": {
    "id": "saJmZnD94R-8",
    "executionInfo": {
     "status": "ok",
     "timestamp": 1656534490216,
     "user_tz": -330,
     "elapsed": 11,
     "user": {
      "displayName": "shreyansh jain",
      "userId": "15851526152066987878"
     }
    }
   },
   "execution_count": 9,
   "outputs": []
  },
  {
   "cell_type": "code",
   "source": [
    "action_list = []\n",
    "action_counter = max_begin + 1\n",
    "reward_counter = 0\n",
    "while action_counter <= max_end:\n",
    "  this_action = int(mario_agent.Action_Memory[action_counter].tolist()[0])\n",
    "  reward_counter += mario_agent.Reward_Memory[action_counter].tolist()[0]\n",
    "  action_list.append(this_action)\n",
    "  action_counter += 1"
   ],
   "metadata": {
    "id": "Z1uKUM1s7YoZ",
    "executionInfo": {
     "status": "ok",
     "timestamp": 1656534490869,
     "user_tz": -330,
     "elapsed": 2,
     "user": {
      "displayName": "shreyansh jain",
      "userId": "15851526152066987878"
     }
    }
   },
   "execution_count": 10,
   "outputs": []
  },
  {
   "cell_type": "code",
   "source": [
    "def test_model():\n",
    "    agent = mario_agent \n",
    "\n",
    "    env = gym.wrappers.Monitor(envi, \"./gym-results\", force=True)\n",
    "    env.reset()\n",
    "    state = env.reset()\n",
    "    state = torch.Tensor(np.array([state]))\n",
    "    total_reward = 0\n",
    "    steps = 0\n",
    "    while steps <= max_end:\n",
    "        show_state(env, max_begin)\n",
    "\n",
    "        action = action_list[steps]\n",
    "        steps += 1\n",
    "        \n",
    "        state_next, reward, terminal, info = env.step(action)\n",
    "        total_reward += reward\n",
    "        state_next = torch.Tensor(np.array([state_next]))\n",
    "        reward = torch.tensor(np.array([reward])).unsqueeze(0)\n",
    "        terminal = torch.tensor([int(terminal)]).unsqueeze(0)            \n",
    "        state = state_next\n",
    "        if terminal:\n",
    "            break\n",
    "    print(\"Total reward after episode {} is {}\".format(max_begin + 1, total_reward))  "
   ],
   "metadata": {
    "id": "uFnKAVOJwXot",
    "executionInfo": {
     "status": "ok",
     "timestamp": 1656534493384,
     "user_tz": -330,
     "elapsed": 586,
     "user": {
      "displayName": "shreyansh jain",
      "userId": "15851526152066987878"
     }
    }
   },
   "execution_count": 12,
   "outputs": []
  },
  {
   "cell_type": "code",
   "execution_count": 13,
   "metadata": {
    "colab": {
     "base_uri": "https://localhost:8080/",
     "height": 574
    },
    "id": "OQoa3Y2SUwKm",
    "executionInfo": {
     "status": "ok",
     "timestamp": 1656534548410,
     "user_tz": -330,
     "elapsed": 51261,
     "user": {
      "displayName": "shreyansh jain",
      "userId": "15851526152066987878"
     }
    },
    "outputId": "a78e37a0-1460-4808-94b2-dfb336590058",
    "pycharm": {
     "name": "#%%\n"
    }
   },
   "outputs": [
    {
     "output_type": "stream",
     "name": "stdout",
     "text": [
      "Total reward after episode 23034 is 3069.0\n"
     ]
    },
    {
     "output_type": "stream",
     "name": "stderr",
     "text": [
      "Exception ignored in: <function Monitor.__del__ at 0x7fa6a314a4d0>\n",
      "Traceback (most recent call last):\n",
      "  File \"/usr/local/lib/python3.7/dist-packages/gym/wrappers/monitor.py\", line 226, in __del__\n",
      "    self.close()\n",
      "  File \"/usr/local/lib/python3.7/dist-packages/gym/wrappers/monitor.py\", line 131, in close\n",
      "    super(Monitor, self).close()\n",
      "  File \"/usr/local/lib/python3.7/dist-packages/gym/core.py\", line 243, in close\n",
      "    return self.env.close()\n",
      "  File \"/usr/local/lib/python3.7/dist-packages/gym/core.py\", line 243, in close\n",
      "    return self.env.close()\n",
      "  File \"/usr/local/lib/python3.7/dist-packages/gym/core.py\", line 243, in close\n",
      "    return self.env.close()\n",
      "  [Previous line repeated 5 more times]\n",
      "  File \"/usr/local/lib/python3.7/dist-packages/nes_py/nes_env.py\", line 346, in close\n",
      "    raise ValueError('env has already been closed.')\n",
      "ValueError: env has already been closed.\n"
     ]
    },
    {
     "output_type": "display_data",
     "data": {
      "text/plain": [
       "<Figure size 432x288 with 1 Axes>"
      ],
      "image/png": "[encoded data removed]"
     },
     "metadata": {
      "needs_background": "light"
     }
    }
   ],
   "source": [
    "#run(training_mode=False, pretrained=True)\n",
    "test_model()\n",
    "\n"
   ]
  }
 ],
 "metadata": {
  "accelerator": "GPU",
  "colab": {
   "collapsed_sections": [],
   "name": "VLG_Project.ipynb",
   "provenance": []
  },
  "gpuClass": "standard",
  "kernelspec": {
   "display_name": "Python 3",
   "name": "python3"
  },
  "language_info": {
   "name": "python"
  }
 },
 "nbformat": 4,
 "nbformat_minor": 0
}